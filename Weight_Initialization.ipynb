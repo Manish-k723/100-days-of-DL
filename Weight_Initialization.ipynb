{
  "nbformat": 4,
  "nbformat_minor": 0,
  "metadata": {
    "colab": {
      "provenance": [],
      "include_colab_link": true
    },
    "kernelspec": {
      "name": "python3",
      "display_name": "Python 3"
    },
    "language_info": {
      "name": "python"
    }
  },
  "cells": [
    {
      "cell_type": "markdown",
      "metadata": {
        "id": "view-in-github",
        "colab_type": "text"
      },
      "source": [
        "<a href=\"https://colab.research.google.com/github/Manish-k723/100-days-of-DL/blob/main/Weight_Initialization.ipynb\" target=\"_parent\"><img src=\"https://colab.research.google.com/assets/colab-badge.svg\" alt=\"Open In Colab\"/></a>"
      ]
    },
    {
      "cell_type": "code",
      "execution_count": null,
      "metadata": {
        "id": "cKVzInXrteyO"
      },
      "outputs": [],
      "source": [
        "import numpy as np\n",
        "import pandas as pd\n",
        "import matplotlib.pyplot as plt"
      ]
    },
    {
      "cell_type": "code",
      "source": [
        "dct = {'X': np.random.randn(100),\n",
        "       'Y': np.random.randn(100),\n",
        "       'class': [np.random.randint(2) for _ in range(100)]}"
      ],
      "metadata": {
        "id": "J-d8C21C_Jf2"
      },
      "execution_count": null,
      "outputs": []
    },
    {
      "cell_type": "code",
      "source": [
        "df = pd.DataFrame(dct)"
      ],
      "metadata": {
        "id": "l-CtLegnti3_"
      },
      "execution_count": null,
      "outputs": []
    },
    {
      "cell_type": "code",
      "source": [
        "df.head()"
      ],
      "metadata": {
        "id": "JjkYz8E0_3gx",
        "outputId": "5538dc41-3d94-4543-ac3f-4bf7a3e6c85a",
        "colab": {
          "base_uri": "https://localhost:8080/",
          "height": 206
        }
      },
      "execution_count": null,
      "outputs": [
        {
          "output_type": "execute_result",
          "data": {
            "text/plain": [
              "          X         Y  class\n",
              "0 -1.219683  0.840641      0\n",
              "1  0.317810 -0.117490      1\n",
              "2  1.440744 -1.965574      0\n",
              "3  1.017906  0.523593      0\n",
              "4  0.798364 -0.736452      0"
            ],
            "text/html": [
              "\n",
              "\n",
              "  <div id=\"df-9507ff02-d43e-4575-9c57-439733d823f6\">\n",
              "    <div class=\"colab-df-container\">\n",
              "      <div>\n",
              "<style scoped>\n",
              "    .dataframe tbody tr th:only-of-type {\n",
              "        vertical-align: middle;\n",
              "    }\n",
              "\n",
              "    .dataframe tbody tr th {\n",
              "        vertical-align: top;\n",
              "    }\n",
              "\n",
              "    .dataframe thead th {\n",
              "        text-align: right;\n",
              "    }\n",
              "</style>\n",
              "<table border=\"1\" class=\"dataframe\">\n",
              "  <thead>\n",
              "    <tr style=\"text-align: right;\">\n",
              "      <th></th>\n",
              "      <th>X</th>\n",
              "      <th>Y</th>\n",
              "      <th>class</th>\n",
              "    </tr>\n",
              "  </thead>\n",
              "  <tbody>\n",
              "    <tr>\n",
              "      <th>0</th>\n",
              "      <td>-1.219683</td>\n",
              "      <td>0.840641</td>\n",
              "      <td>0</td>\n",
              "    </tr>\n",
              "    <tr>\n",
              "      <th>1</th>\n",
              "      <td>0.317810</td>\n",
              "      <td>-0.117490</td>\n",
              "      <td>1</td>\n",
              "    </tr>\n",
              "    <tr>\n",
              "      <th>2</th>\n",
              "      <td>1.440744</td>\n",
              "      <td>-1.965574</td>\n",
              "      <td>0</td>\n",
              "    </tr>\n",
              "    <tr>\n",
              "      <th>3</th>\n",
              "      <td>1.017906</td>\n",
              "      <td>0.523593</td>\n",
              "      <td>0</td>\n",
              "    </tr>\n",
              "    <tr>\n",
              "      <th>4</th>\n",
              "      <td>0.798364</td>\n",
              "      <td>-0.736452</td>\n",
              "      <td>0</td>\n",
              "    </tr>\n",
              "  </tbody>\n",
              "</table>\n",
              "</div>\n",
              "      <button class=\"colab-df-convert\" onclick=\"convertToInteractive('df-9507ff02-d43e-4575-9c57-439733d823f6')\"\n",
              "              title=\"Convert this dataframe to an interactive table.\"\n",
              "              style=\"display:none;\">\n",
              "\n",
              "  <svg xmlns=\"http://www.w3.org/2000/svg\" height=\"24px\"viewBox=\"0 0 24 24\"\n",
              "       width=\"24px\">\n",
              "    <path d=\"M0 0h24v24H0V0z\" fill=\"none\"/>\n",
              "    <path d=\"M18.56 5.44l.94 2.06.94-2.06 2.06-.94-2.06-.94-.94-2.06-.94 2.06-2.06.94zm-11 1L8.5 8.5l.94-2.06 2.06-.94-2.06-.94L8.5 2.5l-.94 2.06-2.06.94zm10 10l.94 2.06.94-2.06 2.06-.94-2.06-.94-.94-2.06-.94 2.06-2.06.94z\"/><path d=\"M17.41 7.96l-1.37-1.37c-.4-.4-.92-.59-1.43-.59-.52 0-1.04.2-1.43.59L10.3 9.45l-7.72 7.72c-.78.78-.78 2.05 0 2.83L4 21.41c.39.39.9.59 1.41.59.51 0 1.02-.2 1.41-.59l7.78-7.78 2.81-2.81c.8-.78.8-2.07 0-2.86zM5.41 20L4 18.59l7.72-7.72 1.47 1.35L5.41 20z\"/>\n",
              "  </svg>\n",
              "      </button>\n",
              "\n",
              "\n",
              "\n",
              "    <div id=\"df-4fac3db3-58d5-40f9-9552-9514b12e9c1c\">\n",
              "      <button class=\"colab-df-quickchart\" onclick=\"quickchart('df-4fac3db3-58d5-40f9-9552-9514b12e9c1c')\"\n",
              "              title=\"Suggest charts.\"\n",
              "              style=\"display:none;\">\n",
              "\n",
              "<svg xmlns=\"http://www.w3.org/2000/svg\" height=\"24px\"viewBox=\"0 0 24 24\"\n",
              "     width=\"24px\">\n",
              "    <g>\n",
              "        <path d=\"M19 3H5c-1.1 0-2 .9-2 2v14c0 1.1.9 2 2 2h14c1.1 0 2-.9 2-2V5c0-1.1-.9-2-2-2zM9 17H7v-7h2v7zm4 0h-2V7h2v10zm4 0h-2v-4h2v4z\"/>\n",
              "    </g>\n",
              "</svg>\n",
              "      </button>\n",
              "    </div>\n",
              "\n",
              "<style>\n",
              "  .colab-df-quickchart {\n",
              "    background-color: #E8F0FE;\n",
              "    border: none;\n",
              "    border-radius: 50%;\n",
              "    cursor: pointer;\n",
              "    display: none;\n",
              "    fill: #1967D2;\n",
              "    height: 32px;\n",
              "    padding: 0 0 0 0;\n",
              "    width: 32px;\n",
              "  }\n",
              "\n",
              "  .colab-df-quickchart:hover {\n",
              "    background-color: #E2EBFA;\n",
              "    box-shadow: 0px 1px 2px rgba(60, 64, 67, 0.3), 0px 1px 3px 1px rgba(60, 64, 67, 0.15);\n",
              "    fill: #174EA6;\n",
              "  }\n",
              "\n",
              "  [theme=dark] .colab-df-quickchart {\n",
              "    background-color: #3B4455;\n",
              "    fill: #D2E3FC;\n",
              "  }\n",
              "\n",
              "  [theme=dark] .colab-df-quickchart:hover {\n",
              "    background-color: #434B5C;\n",
              "    box-shadow: 0px 1px 3px 1px rgba(0, 0, 0, 0.15);\n",
              "    filter: drop-shadow(0px 1px 2px rgba(0, 0, 0, 0.3));\n",
              "    fill: #FFFFFF;\n",
              "  }\n",
              "</style>\n",
              "\n",
              "    <script>\n",
              "      async function quickchart(key) {\n",
              "        const containerElement = document.querySelector('#' + key);\n",
              "        const charts = await google.colab.kernel.invokeFunction(\n",
              "            'suggestCharts', [key], {});\n",
              "      }\n",
              "    </script>\n",
              "\n",
              "      <script>\n",
              "\n",
              "function displayQuickchartButton(domScope) {\n",
              "  let quickchartButtonEl =\n",
              "    domScope.querySelector('#df-4fac3db3-58d5-40f9-9552-9514b12e9c1c button.colab-df-quickchart');\n",
              "  quickchartButtonEl.style.display =\n",
              "    google.colab.kernel.accessAllowed ? 'block' : 'none';\n",
              "}\n",
              "\n",
              "        displayQuickchartButton(document);\n",
              "      </script>\n",
              "      <style>\n",
              "    .colab-df-container {\n",
              "      display:flex;\n",
              "      flex-wrap:wrap;\n",
              "      gap: 12px;\n",
              "    }\n",
              "\n",
              "    .colab-df-convert {\n",
              "      background-color: #E8F0FE;\n",
              "      border: none;\n",
              "      border-radius: 50%;\n",
              "      cursor: pointer;\n",
              "      display: none;\n",
              "      fill: #1967D2;\n",
              "      height: 32px;\n",
              "      padding: 0 0 0 0;\n",
              "      width: 32px;\n",
              "    }\n",
              "\n",
              "    .colab-df-convert:hover {\n",
              "      background-color: #E2EBFA;\n",
              "      box-shadow: 0px 1px 2px rgba(60, 64, 67, 0.3), 0px 1px 3px 1px rgba(60, 64, 67, 0.15);\n",
              "      fill: #174EA6;\n",
              "    }\n",
              "\n",
              "    [theme=dark] .colab-df-convert {\n",
              "      background-color: #3B4455;\n",
              "      fill: #D2E3FC;\n",
              "    }\n",
              "\n",
              "    [theme=dark] .colab-df-convert:hover {\n",
              "      background-color: #434B5C;\n",
              "      box-shadow: 0px 1px 3px 1px rgba(0, 0, 0, 0.15);\n",
              "      filter: drop-shadow(0px 1px 2px rgba(0, 0, 0, 0.3));\n",
              "      fill: #FFFFFF;\n",
              "    }\n",
              "  </style>\n",
              "\n",
              "      <script>\n",
              "        const buttonEl =\n",
              "          document.querySelector('#df-9507ff02-d43e-4575-9c57-439733d823f6 button.colab-df-convert');\n",
              "        buttonEl.style.display =\n",
              "          google.colab.kernel.accessAllowed ? 'block' : 'none';\n",
              "\n",
              "        async function convertToInteractive(key) {\n",
              "          const element = document.querySelector('#df-9507ff02-d43e-4575-9c57-439733d823f6');\n",
              "          const dataTable =\n",
              "            await google.colab.kernel.invokeFunction('convertToInteractive',\n",
              "                                                     [key], {});\n",
              "          if (!dataTable) return;\n",
              "\n",
              "          const docLinkHtml = 'Like what you see? Visit the ' +\n",
              "            '<a target=\"_blank\" href=https://colab.research.google.com/notebooks/data_table.ipynb>data table notebook</a>'\n",
              "            + ' to learn more about interactive tables.';\n",
              "          element.innerHTML = '';\n",
              "          dataTable['output_type'] = 'display_data';\n",
              "          await google.colab.output.renderOutput(dataTable, element);\n",
              "          const docLink = document.createElement('div');\n",
              "          docLink.innerHTML = docLinkHtml;\n",
              "          element.appendChild(docLink);\n",
              "        }\n",
              "      </script>\n",
              "    </div>\n",
              "  </div>\n"
            ]
          },
          "metadata": {},
          "execution_count": 21
        }
      ]
    },
    {
      "cell_type": "code",
      "source": [
        "plt.scatter(df['X'],df['Y'],c=df['class'])"
      ],
      "metadata": {
        "colab": {
          "base_uri": "https://localhost:8080/",
          "height": 447
        },
        "id": "ZuYqGD_mtuQG",
        "outputId": "e0c76539-620e-4352-d618-dd9ebd03dbd0"
      },
      "execution_count": null,
      "outputs": [
        {
          "output_type": "execute_result",
          "data": {
            "text/plain": [
              "<matplotlib.collections.PathCollection at 0x7e5006a7e020>"
            ]
          },
          "metadata": {},
          "execution_count": 22
        },
        {
          "output_type": "display_data",
          "data": {
            "text/plain": [
              "<Figure size 640x480 with 1 Axes>"
            ],
            "image/png": "[encoded data removed]"
          },
          "metadata": {}
        }
      ]
    },
    {
      "cell_type": "code",
      "source": [
        "X = df.iloc[:,0:2].values\n",
        "y = df.iloc[:,-1].values"
      ],
      "metadata": {
        "id": "nwXuHnqhtwEJ"
      },
      "execution_count": null,
      "outputs": []
    },
    {
      "cell_type": "code",
      "source": [
        "import tensorflow\n",
        "from tensorflow import keras\n",
        "from keras import Sequential\n",
        "from keras.layers import Dense"
      ],
      "metadata": {
        "id": "ylDVIM8Ltx0H"
      },
      "execution_count": null,
      "outputs": []
    },
    {
      "cell_type": "code",
      "source": [
        "model = Sequential()\n",
        "\n",
        "model.add(Dense(10,activation='relu',input_dim=2,kernel_initializer='he_uniform'))\n",
        "model.add(Dense(10,activation='relu',kernel_initializer='he_normal'))\n",
        "model.add(Dense(10,activation='relu',kernel_initializer='he_normal'))\n",
        "model.add(Dense(10,activation='relu',kernel_initializer='he_normal'))\n",
        "model.add(Dense(1,activation='sigmoid'))\n",
        "\n",
        "model.summary()"
      ],
      "metadata": {
        "colab": {
          "base_uri": "https://localhost:8080/"
        },
        "id": "id8rhK5OtzVX",
        "outputId": "6b44e8a9-bb98-4a72-b9bd-f6022c467790"
      },
      "execution_count": null,
      "outputs": [
        {
          "output_type": "stream",
          "name": "stdout",
          "text": [
            "Model: \"sequential\"\n",
            "_________________________________________________________________\n",
            " Layer (type)                Output Shape              Param #   \n",
            "=================================================================\n",
            " dense (Dense)               (None, 10)                30        \n",
            "                                                                 \n",
            " dense_1 (Dense)             (None, 10)                110       \n",
            "                                                                 \n",
            " dense_2 (Dense)             (None, 10)                110       \n",
            "                                                                 \n",
            " dense_3 (Dense)             (None, 10)                110       \n",
            "                                                                 \n",
            " dense_4 (Dense)             (None, 1)                 11        \n",
            "                                                                 \n",
            "=================================================================\n",
            "Total params: 371\n",
            "Trainable params: 371\n",
            "Non-trainable params: 0\n",
            "_________________________________________________________________\n"
          ]
        }
      ]
    },
    {
      "cell_type": "code",
      "source": [
        "model.get_weights()"
      ],
      "metadata": {
        "colab": {
          "base_uri": "https://localhost:8080/"
        },
        "id": "YjST2L1qt1UP",
        "outputId": "7ef04757-9f0b-44c7-954f-56c5a7c4df35"
      },
      "execution_count": null,
      "outputs": [
        {
          "output_type": "execute_result",
          "data": {
            "text/plain": [
              "[array([[ 1.1383387 ,  0.3121785 ,  1.4166838 , -1.0413587 ,  0.16609919,\n",
              "         -1.1435299 ,  0.09738016, -1.5626488 , -0.6780095 ,  0.6853477 ],\n",
              "        [-0.6434734 ,  0.5504428 ,  0.99717176, -1.6716304 ,  0.26240075,\n",
              "         -1.457143  , -0.6852279 , -0.7374665 , -0.9706297 , -1.410734  ]],\n",
              "       dtype=float32),\n",
              " array([0., 0., 0., 0., 0., 0., 0., 0., 0., 0.], dtype=float32),\n",
              " array([[-0.19462912, -0.6091239 ,  0.9118341 ,  0.00410544, -0.28908783,\n",
              "          0.38376424, -0.28119442,  0.34531057, -0.9957959 ,  0.65708435],\n",
              "        [ 0.4740879 ,  0.32039234, -0.2970307 ,  0.3134883 , -0.21876003,\n",
              "          0.02376456, -0.90756035, -0.25624406, -0.11275714,  0.68472934],\n",
              "        [ 0.46146733, -0.4306532 ,  0.02628394, -0.80331105,  0.21985745,\n",
              "         -0.11221831, -0.7371666 ,  0.12944093, -0.76493794,  0.3955795 ],\n",
              "        [-0.06245867, -0.79578966, -0.54948354,  0.83921283,  0.6070528 ,\n",
              "         -0.24173382, -0.3561639 ,  0.80610704, -0.3829601 , -0.9550916 ],\n",
              "        [ 0.38029206, -0.20495145, -0.12229733, -0.48599976, -0.18459235,\n",
              "          0.59080637,  0.0488995 ,  0.09678496,  0.44509426,  0.04870714],\n",
              "        [-0.26625776,  0.5996802 ,  0.00959186, -0.45614785,  0.31732747,\n",
              "         -0.696193  , -0.5334764 , -0.9101638 , -0.02857806,  0.4019862 ],\n",
              "        [ 0.05077164, -0.29336998, -0.17901835, -0.12412158,  0.75841737,\n",
              "          0.34965187,  0.05379879, -0.27844587, -0.5512145 ,  0.26703167],\n",
              "        [-0.01496672,  0.8863015 ,  0.10365835,  0.6551584 , -0.65844476,\n",
              "          0.33742893,  0.10609544,  0.66623664,  0.6918156 ,  0.80849814],\n",
              "        [ 0.31286594, -0.37207097, -0.50326854, -0.70566934,  0.07822946,\n",
              "         -0.514281  ,  0.28212678,  0.13640715,  0.38788402,  0.6712688 ],\n",
              "        [-0.3246885 ,  0.24449398, -0.7843339 ,  0.787601  ,  0.69555074,\n",
              "          0.59913987, -0.00547162, -0.810145  ,  0.23372978,  0.2559886 ]],\n",
              "       dtype=float32),\n",
              " array([0., 0., 0., 0., 0., 0., 0., 0., 0., 0.], dtype=float32),\n",
              " array([[ 0.19228181,  0.34082228,  0.01498672,  0.37338373,  0.6555242 ,\n",
              "          0.47299436, -0.04796448,  0.19671808,  0.45179996, -0.08956327],\n",
              "        [ 0.3267247 ,  0.78376895,  0.3915001 ,  0.27131814,  0.42974016,\n",
              "         -0.40404812, -0.85527724, -0.37757713, -0.48422003,  0.18521655],\n",
              "        [ 0.05608628,  0.13509741, -0.5560786 , -0.25889188,  0.05617925,\n",
              "         -0.393689  ,  0.7704247 ,  0.09976058,  0.10281825, -0.5041064 ],\n",
              "        [ 0.3319699 ,  0.30573282,  0.16181344, -0.18802397, -0.03179708,\n",
              "         -0.68520015, -0.05858209, -0.68820864,  0.45237184, -0.13061547],\n",
              "        [ 0.03299386, -0.57479036,  0.31235063, -0.21824825,  0.8953374 ,\n",
              "          0.18077716,  0.48893017,  0.18454212, -0.24282303,  0.3887309 ],\n",
              "        [ 0.04535658,  0.5358057 ,  0.4943301 ,  0.07819622,  0.3688994 ,\n",
              "         -0.58785313, -0.07435123, -0.5537298 , -0.02745279, -0.61665875],\n",
              "        [ 0.5738713 , -0.48755795,  0.08598543, -0.14973316,  0.63420695,\n",
              "          0.01691267, -0.87595904, -0.47614366,  0.46140116, -0.17817825],\n",
              "        [ 0.44949782,  0.3710564 , -0.20471168, -0.03305666,  0.6192353 ,\n",
              "         -0.36579925, -0.20625654,  0.3403247 , -0.03959131,  0.62965626],\n",
              "        [ 0.54451585, -0.3302519 , -0.19461665, -0.51788896,  0.38722667,\n",
              "         -0.54094946,  0.26995665,  0.726962  , -0.45927283,  0.00820521],\n",
              "        [-0.58904827, -0.45629418,  0.8918943 ,  0.2860346 ,  0.67145306,\n",
              "          0.7452064 ,  0.4810864 ,  0.39092642, -0.29237428,  0.36012444]],\n",
              "       dtype=float32),\n",
              " array([0., 0., 0., 0., 0., 0., 0., 0., 0., 0.], dtype=float32),\n",
              " array([[-0.16992867,  0.34629646, -0.6972008 , -0.5561206 ,  0.6714601 ,\n",
              "          0.5195858 ,  0.25621915, -0.09702293,  0.36125407, -0.36501753],\n",
              "        [ 0.15724328, -0.97912616, -0.4335214 , -0.03963771, -0.87120926,\n",
              "         -0.38293844,  0.19222595,  0.16821305,  0.7278402 , -0.07303984],\n",
              "        [-0.81873107, -0.03261574, -0.34632322,  0.13865331, -0.1039311 ,\n",
              "         -0.25677106, -0.45799616, -0.52506673, -0.21685277,  0.94712114],\n",
              "        [-0.42435154, -0.58073795, -0.62747246, -0.13180698, -0.11989229,\n",
              "          0.95099354,  0.4365009 , -0.5466778 , -0.31660074,  0.39094552],\n",
              "        [-0.05185228, -0.06850017,  0.6023545 , -0.07818013,  0.25735658,\n",
              "          0.6463107 ,  0.4853244 , -0.26759398, -0.15045345,  0.21088642],\n",
              "        [-0.8574015 ,  0.5899519 ,  0.02842588,  0.366714  ,  0.45768788,\n",
              "         -0.3863476 ,  0.23162118, -0.11121662, -0.4313706 ,  0.5498975 ],\n",
              "        [ 0.26077992, -0.12653238, -0.03202272,  0.17582744,  0.53066444,\n",
              "          0.6827872 ,  0.20115049, -0.02793153,  0.4954117 ,  0.3276116 ],\n",
              "        [-0.34998798,  0.19181602, -0.48050773, -0.71209145,  0.74839115,\n",
              "          0.15425798,  0.19774094,  0.04745402,  0.63971716, -0.82695293],\n",
              "        [ 0.07274823,  0.6649799 , -0.5928563 , -0.5629849 ,  0.894629  ,\n",
              "         -0.6486329 ,  0.43253738,  0.224976  ,  0.03484036,  0.4002346 ],\n",
              "        [-0.29467115,  0.13192338, -0.28591707, -0.65710896, -0.67828363,\n",
              "          0.297272  , -0.7869769 , -0.15216711,  0.5082465 ,  0.3501774 ]],\n",
              "       dtype=float32),\n",
              " array([0., 0., 0., 0., 0., 0., 0., 0., 0., 0.], dtype=float32),\n",
              " array([[ 0.3650536 ],\n",
              "        [-0.5196678 ],\n",
              "        [ 0.21801478],\n",
              "        [-0.49847296],\n",
              "        [-0.13861912],\n",
              "        [-0.4104284 ],\n",
              "        [ 0.6594334 ],\n",
              "        [-0.4376596 ],\n",
              "        [ 0.62334806],\n",
              "        [-0.05111164]], dtype=float32),\n",
              " array([0.], dtype=float32)]"
            ]
          },
          "metadata": {},
          "execution_count": 26
        }
      ]
    },
    {
      "cell_type": "code",
      "source": [
        "initial_weights = model.get_weights()"
      ],
      "metadata": {
        "id": "SNnRle4Dt4bc"
      },
      "execution_count": null,
      "outputs": []
    },
    {
      "cell_type": "code",
      "source": [
        "initial_weights[0] = np.random.randn(2,10)*np.sqrt(1/2)\n",
        "initial_weights[1] = np.zeros(model.get_weights()[1].shape)\n",
        "initial_weights[2] = np.random.randn(10,10)*np.sqrt(1/10)\n",
        "initial_weights[3] = np.zeros(model.get_weights()[3].shape)\n",
        "initial_weights[4] = np.random.randn(10,10)*np.sqrt(1/10)\n",
        "initial_weights[5] = np.zeros(model.get_weights()[5].shape)\n",
        "initial_weights[6] = np.random.randn(10,10)*np.sqrt(1/10)\n",
        "initial_weights[7] = np.zeros(model.get_weights()[7].shape)\n",
        "initial_weights[8] = np.random.randn(10,1)*np.sqrt(1/10)\n",
        "initial_weights[9] = np.zeros(model.get_weights()[9].shape)"
      ],
      "metadata": {
        "id": "T6mklkSot6GI"
      },
      "execution_count": null,
      "outputs": []
    },
    {
      "cell_type": "code",
      "source": [
        "model.set_weights(initial_weights)"
      ],
      "metadata": {
        "id": "cnoX9yK8ueEM"
      },
      "execution_count": null,
      "outputs": []
    },
    {
      "cell_type": "code",
      "source": [
        "model.get_weights()"
      ],
      "metadata": {
        "id": "1guey_KUujTP"
      },
      "execution_count": null,
      "outputs": []
    },
    {
      "cell_type": "code",
      "source": [
        "model.compile(loss='binary_crossentropy',optimizer='adam',metrics=['accuracy'])"
      ],
      "metadata": {
        "id": "bjAyhD8mulGG"
      },
      "execution_count": null,
      "outputs": []
    },
    {
      "cell_type": "code",
      "source": [
        "history = model.fit(X,y,epochs=100,validation_split=0.2)"
      ],
      "metadata": {
        "id": "H1wa0jCaun8z"
      },
      "execution_count": null,
      "outputs": []
    },
    {
      "cell_type": "code",
      "source": [
        "model.get_weights()"
      ],
      "metadata": {
        "colab": {
          "base_uri": "https://localhost:8080/"
        },
        "id": "8K2E1Z5Oupj_",
        "outputId": "b2f6dae5-ea9a-4cc9-8668-1d54a7b78d9d"
      },
      "execution_count": null,
      "outputs": [
        {
          "output_type": "execute_result",
          "data": {
            "text/plain": [
              "[array([[-0.7534644 , -0.40642726, -0.46373174, -0.7715832 , -0.1277438 ,\n",
              "         -0.2729551 ,  0.34282172, -0.2771892 , -0.26632193, -1.429772  ],\n",
              "        [ 1.0737787 ,  0.47488663,  0.62465155, -0.12547861,  0.20325062,\n",
              "         -0.28902182, -0.28489602, -0.7651134 ,  0.32014093,  0.38592413]],\n",
              "       dtype=float32),\n",
              " array([ 0.17320989,  0.00114872,  0.0397424 , -0.13545433,  0.00454802,\n",
              "        -0.22851905, -0.04516467,  0.15110366, -0.06830908,  0.17423655],\n",
              "       dtype=float32),\n",
              " array([[ 0.07947282,  0.26585355,  0.15415847, -0.25968108, -0.01067472,\n",
              "          0.37633535,  0.03868366, -0.38048545, -0.19025889, -0.65158546],\n",
              "        [-0.85772514, -0.04266584,  0.12410757, -0.38518146,  0.4134989 ,\n",
              "         -0.11743478, -0.66751945,  0.37822312, -0.16036926, -0.14447264],\n",
              "        [-0.14926817, -0.04317714,  0.24179652, -0.20616755,  0.4172752 ,\n",
              "         -0.737155  , -0.17425217,  0.3156445 , -0.3552739 , -0.395115  ],\n",
              "        [-0.26271275, -0.16797927,  0.30563584, -0.03270569, -0.01150104,\n",
              "         -0.24627677,  0.24142104, -0.07621646,  0.3339557 ,  0.10243275],\n",
              "        [ 0.26255026,  0.02363358,  0.3236393 , -0.43547204,  0.26811856,\n",
              "         -0.49417892, -0.0136685 ,  0.00086602, -0.24076873, -0.00815725],\n",
              "        [ 0.06651404, -0.16314201,  0.26959333,  0.3236881 ,  0.11817549,\n",
              "          0.17660452,  0.11021394,  0.47018412,  0.5029724 ,  0.54021436],\n",
              "        [ 0.01232329, -0.43329835, -0.21424858,  0.48738435, -0.38471356,\n",
              "          0.35022077, -0.33246592, -0.03527692,  0.34334227,  0.33408895],\n",
              "        [-0.17499602, -0.08846112,  0.44534263,  0.41706678, -0.25442937,\n",
              "         -0.13242589, -0.5917319 , -0.75003874,  0.0550186 , -0.08872192],\n",
              "        [ 0.4335519 ,  0.11488257,  0.29251856, -0.29791567,  0.03763288,\n",
              "         -0.11979282, -0.4849098 ,  0.18739605,  0.00637927,  0.16282775],\n",
              "        [-0.17443036,  0.08167496, -0.5419055 ,  0.12802073, -0.22356339,\n",
              "          0.38808206, -0.21330813, -0.49614394,  0.22101277, -0.00226254]],\n",
              "       dtype=float32),\n",
              " array([ 0.049227  ,  0.02721086,  0.03504166, -0.01238636, -0.01706586,\n",
              "         0.01988176,  0.00092993, -0.07296985,  0.04619956, -0.05349142],\n",
              "       dtype=float32),\n",
              " array([[ 0.29350972,  0.01495209, -0.16467233,  0.02042359, -0.14378741,\n",
              "         -0.05700863,  0.11989471, -0.05637817,  0.27254355,  0.47402745],\n",
              "        [ 0.25167063, -0.14288695,  0.17566955,  0.41847163, -0.3347687 ,\n",
              "          0.00793358,  0.48080194, -0.25084803,  0.34036502, -0.39949074],\n",
              "        [ 0.2644032 , -0.0856568 , -0.4119659 , -0.09630942, -0.17804305,\n",
              "          0.52713746,  0.3026423 , -0.40907007,  0.5909925 , -0.0976069 ],\n",
              "        [ 0.36357093, -0.00488952, -0.26088867,  0.67006505,  0.28054923,\n",
              "         -0.17542177,  0.05486431, -0.21949461,  0.16455914, -0.04049552],\n",
              "        [ 0.55641574, -0.34682623,  0.07759377, -0.08662193, -0.09695615,\n",
              "          0.11891202, -0.01521198,  0.56446314,  0.23075795,  0.23031878],\n",
              "        [-0.09142579,  0.5548033 , -0.32469928,  0.3647462 , -0.12595163,\n",
              "          0.07089631,  0.03449333, -0.14888313, -0.05808999,  0.39150393],\n",
              "        [ 0.07599428, -0.12699255,  0.13093065, -0.07967905, -0.2547059 ,\n",
              "          0.04206409,  0.12510847, -0.39710048,  0.40889964,  0.32673928],\n",
              "        [ 0.5740713 , -0.2281679 ,  0.58825105, -0.40184653, -0.00410547,\n",
              "          0.58658844,  0.05537734,  0.03298928,  0.31169656, -0.19233175],\n",
              "        [-0.12104338, -0.5014624 ,  0.3113903 , -0.18781507, -0.46274775,\n",
              "         -0.11499538, -0.02999777, -0.53375983,  0.18876345,  0.00505815],\n",
              "        [-0.19417681, -0.06788933, -0.17673816,  0.1532216 , -0.28136235,\n",
              "         -0.2114139 , -0.47005594, -0.15971005, -0.65872353, -0.00340652]],\n",
              "       dtype=float32),\n",
              " array([-0.10150597, -0.03123332, -0.0282005 ,  0.00438787, -0.0004478 ,\n",
              "        -0.01638761,  0.02175754, -0.0104647 , -0.0085741 ,  0.0146223 ],\n",
              "       dtype=float32),\n",
              " array([[-0.22318298,  0.07007452, -0.2524823 , -0.05630882, -0.28767478,\n",
              "         -0.30032828, -0.53940725,  0.39169684, -0.15365812, -0.0530921 ],\n",
              "        [ 0.4531743 , -0.08485935,  0.12253729, -0.30106953, -0.1967986 ,\n",
              "         -0.23179246,  0.03937139, -0.92975223,  0.24682377, -0.42667037],\n",
              "        [ 0.21209171, -0.67760456, -0.10822933, -0.41114506,  0.6541816 ,\n",
              "         -0.14481081, -0.03953418,  0.04622973, -0.0592063 ,  0.29646206],\n",
              "        [ 0.0608221 , -0.13862969,  0.33889246,  0.17931186, -0.05995693,\n",
              "          0.54015994,  0.3014577 ,  0.00219015, -1.0318656 , -0.20843661],\n",
              "        [ 0.37494394,  0.3653853 , -0.27225742, -0.565997  ,  0.18694456,\n",
              "         -0.10070051,  0.03893152,  0.54326385,  1.0207042 , -0.3092072 ],\n",
              "        [-0.8066734 , -0.2072293 , -0.48196635,  0.23339203,  0.5445601 ,\n",
              "         -0.1517635 , -0.67532665, -0.14281388, -0.01136848,  0.30655432],\n",
              "        [-0.5232737 , -0.71261376,  0.06331099,  0.5418455 ,  0.04043067,\n",
              "         -0.07597745,  0.19247657,  0.52028334,  0.5407295 ,  1.3793249 ],\n",
              "        [-0.4539783 , -0.09870224, -0.23679186, -0.5744874 ,  0.06544055,\n",
              "         -0.12984492,  0.08924435,  0.48100042,  0.28226385,  0.02544265],\n",
              "        [ 0.27545497, -0.5602012 ,  0.02050368, -0.43816292,  0.4175032 ,\n",
              "         -0.04267948, -0.0295357 ,  0.16153401, -0.2269098 ,  0.1951963 ],\n",
              "        [ 0.0839916 ,  0.5102925 ,  0.36176258,  0.32111955,  0.16688062,\n",
              "         -0.14484844,  0.00219644, -0.24006948, -0.2244049 , -0.06599794]],\n",
              "       dtype=float32),\n",
              " array([-0.0068772 ,  0.0014922 ,  0.01118906,  0.0100634 , -0.04027907,\n",
              "         0.04657998,  0.03504817, -0.00922029, -0.00490694,  0.01948539],\n",
              "       dtype=float32),\n",
              " array([[ 0.29533505],\n",
              "        [ 0.40718013],\n",
              "        [ 0.52056015],\n",
              "        [ 0.09189746],\n",
              "        [-0.37449685],\n",
              "        [ 0.3979505 ],\n",
              "        [ 0.5800399 ],\n",
              "        [-0.46293905],\n",
              "        [-0.34727475],\n",
              "        [-0.62581825]], dtype=float32),\n",
              " array([0.03037571], dtype=float32)]"
            ]
          },
          "metadata": {},
          "execution_count": 52
        }
      ]
    },
    {
      "cell_type": "code",
      "source": [
        "from mlxtend.plotting import plot_decision_regions\n",
        "plot_decision_regions(X,y.astype('int'), clf=model, legend=2)"
      ],
      "metadata": {
        "colab": {
          "base_uri": "https://localhost:8080/",
          "height": 467
        },
        "id": "h2jKnSGeuuLY",
        "outputId": "9bb0a110-ba34-41ee-99fc-9360c7abda85"
      },
      "execution_count": null,
      "outputs": [
        {
          "output_type": "stream",
          "name": "stdout",
          "text": [
            "9600/9600 [==============================] - 7s 739us/step\n"
          ]
        },
        {
          "output_type": "execute_result",
          "data": {
            "text/plain": [
              "<Axes: >"
            ]
          },
          "metadata": {},
          "execution_count": 30
        },
        {
          "output_type": "display_data",
          "data": {
            "text/plain": [
              "<Figure size 640x480 with 1 Axes>"
            ],
            "image/png": "[encoded data removed]"
          },
          "metadata": {}
        }
      ]
    },
    {
      "cell_type": "code",
      "source": [
        "(np.random.randn(10,10)*0.01).min()"
      ],
      "metadata": {
        "colab": {
          "base_uri": "https://localhost:8080/"
        },
        "id": "6cQtO9mpuxLI",
        "outputId": "4a6119bb-2926-4713-dfda-62fcdb35f9d3"
      },
      "execution_count": null,
      "outputs": [
        {
          "output_type": "execute_result",
          "data": {
            "text/plain": [
              "-0.022849262187386685"
            ]
          },
          "metadata": {},
          "execution_count": 31
        }
      ]
    },
    {
      "cell_type": "code",
      "source": [
        "(np.random.randn(10,10)*0.01).max()"
      ],
      "metadata": {
        "colab": {
          "base_uri": "https://localhost:8080/"
        },
        "id": "diiaUiL92T7H",
        "outputId": "e5c4e9ce-0d77-4160-9a93-2baad9b5a70b"
      },
      "execution_count": null,
      "outputs": [
        {
          "output_type": "execute_result",
          "data": {
            "text/plain": [
              "0.028622161660282707"
            ]
          },
          "metadata": {},
          "execution_count": 32
        }
      ]
    },
    {
      "cell_type": "code",
      "source": [],
      "metadata": {
        "id": "b2DJRNfI3BOE"
      },
      "execution_count": null,
      "outputs": []
    }
  ]
}