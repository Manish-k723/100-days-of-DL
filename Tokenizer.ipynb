{
  "nbformat": 4,
  "nbformat_minor": 0,
  "metadata": {
    "colab": {
      "provenance": [],
      "gpuType": "T4",
      "authorship_tag": "ABX9TyP+8qQKDN5OGYv7kLkhqZGW",
      "include_colab_link": true
    },
    "kernelspec": {
      "name": "python3",
      "display_name": "Python 3"
    },
    "language_info": {
      "name": "python"
    }
  },
  "cells": [
    {
      "cell_type": "markdown",
      "metadata": {
        "id": "view-in-github",
        "colab_type": "text"
      },
      "source": [
        "<a href=\"https://colab.research.google.com/github/Manish-k723/100-days-of-DL/blob/main/Tokenizer.ipynb\" target=\"_parent\"><img src=\"https://colab.research.google.com/assets/colab-badge.svg\" alt=\"Open In Colab\"/></a>"
      ]
    },
    {
      "cell_type": "code",
      "source": [
        "import numpy as np\n",
        "\n",
        "docs = [\n",
        "    'India India',\n",
        "    'I am the best',\n",
        "    'I can do anythin',\n",
        "    'Today is my day',\n",
        "    'I am unbeatable',\n",
        "    'God is always with me',\n",
        "    'I am the winner',\n",
        "    'No perfumes if flowers are not crushed',\n",
        "    'This is my way of doing things'\n",
        "]"
      ],
      "metadata": {
        "id": "bawudAqixjk0"
      },
      "execution_count": 2,
      "outputs": []
    },
    {
      "cell_type": "code",
      "source": [
        "from keras.preprocessing.text import Tokenizer\n",
        "token = Tokenizer(oov_token = 'outOfCorpus')"
      ],
      "metadata": {
        "id": "yWzKJByaxjff"
      },
      "execution_count": 3,
      "outputs": []
    },
    {
      "cell_type": "code",
      "source": [
        "token.fit_on_texts(docs)"
      ],
      "metadata": {
        "id": "ug3E0I0kyk50"
      },
      "execution_count": 4,
      "outputs": []
    },
    {
      "cell_type": "code",
      "source": [
        "token.word_index"
      ],
      "metadata": {
        "colab": {
          "base_uri": "https://localhost:8080/"
        },
        "id": "UM-93tGhyxaA",
        "outputId": "f2cbdae0-68a6-42b2-f7c8-63c0199085b4"
      },
      "execution_count": 5,
      "outputs": [
        {
          "output_type": "execute_result",
          "data": {
            "text/plain": [
              "{'outOfCorpus': 1,\n",
              " 'i': 2,\n",
              " 'am': 3,\n",
              " 'is': 4,\n",
              " 'india': 5,\n",
              " 'the': 6,\n",
              " 'my': 7,\n",
              " 'best': 8,\n",
              " 'can': 9,\n",
              " 'do': 10,\n",
              " 'anythin': 11,\n",
              " 'today': 12,\n",
              " 'day': 13,\n",
              " 'unbeatable': 14,\n",
              " 'god': 15,\n",
              " 'always': 16,\n",
              " 'with': 17,\n",
              " 'me': 18,\n",
              " 'winner': 19,\n",
              " 'no': 20,\n",
              " 'perfumes': 21,\n",
              " 'if': 22,\n",
              " 'flowers': 23,\n",
              " 'are': 24,\n",
              " 'not': 25,\n",
              " 'crushed': 26,\n",
              " 'this': 27,\n",
              " 'way': 28,\n",
              " 'of': 29,\n",
              " 'doing': 30,\n",
              " 'things': 31}"
            ]
          },
          "metadata": {},
          "execution_count": 5
        }
      ]
    },
    {
      "cell_type": "code",
      "source": [
        "token.word_counts"
      ],
      "metadata": {
        "colab": {
          "base_uri": "https://localhost:8080/"
        },
        "id": "4tI8aRAWyzsS",
        "outputId": "1237fe99-be6d-464b-d08f-53067ca74d6c"
      },
      "execution_count": 6,
      "outputs": [
        {
          "output_type": "execute_result",
          "data": {
            "text/plain": [
              "OrderedDict([('india', 2),\n",
              "             ('i', 4),\n",
              "             ('am', 3),\n",
              "             ('the', 2),\n",
              "             ('best', 1),\n",
              "             ('can', 1),\n",
              "             ('do', 1),\n",
              "             ('anythin', 1),\n",
              "             ('today', 1),\n",
              "             ('is', 3),\n",
              "             ('my', 2),\n",
              "             ('day', 1),\n",
              "             ('unbeatable', 1),\n",
              "             ('god', 1),\n",
              "             ('always', 1),\n",
              "             ('with', 1),\n",
              "             ('me', 1),\n",
              "             ('winner', 1),\n",
              "             ('no', 1),\n",
              "             ('perfumes', 1),\n",
              "             ('if', 1),\n",
              "             ('flowers', 1),\n",
              "             ('are', 1),\n",
              "             ('not', 1),\n",
              "             ('crushed', 1),\n",
              "             ('this', 1),\n",
              "             ('way', 1),\n",
              "             ('of', 1),\n",
              "             ('doing', 1),\n",
              "             ('things', 1)])"
            ]
          },
          "metadata": {},
          "execution_count": 6
        }
      ]
    },
    {
      "cell_type": "code",
      "source": [
        "token.document_count"
      ],
      "metadata": {
        "colab": {
          "base_uri": "https://localhost:8080/"
        },
        "id": "fy12gxhny2tP",
        "outputId": "6b4f7fec-1f67-4eb3-bf19-beb87876cd37"
      },
      "execution_count": 7,
      "outputs": [
        {
          "output_type": "execute_result",
          "data": {
            "text/plain": [
              "9"
            ]
          },
          "metadata": {},
          "execution_count": 7
        }
      ]
    },
    {
      "cell_type": "code",
      "source": [
        "sequence = token.texts_to_sequences(docs)\n",
        "sequence"
      ],
      "metadata": {
        "colab": {
          "base_uri": "https://localhost:8080/"
        },
        "id": "doavrDrKzAlG",
        "outputId": "4fcc4919-a209-450d-e4ba-5339d5f6a477"
      },
      "execution_count": 8,
      "outputs": [
        {
          "output_type": "execute_result",
          "data": {
            "text/plain": [
              "[[5, 5],\n",
              " [2, 3, 6, 8],\n",
              " [2, 9, 10, 11],\n",
              " [12, 4, 7, 13],\n",
              " [2, 3, 14],\n",
              " [15, 4, 16, 17, 18],\n",
              " [2, 3, 6, 19],\n",
              " [20, 21, 22, 23, 24, 25, 26],\n",
              " [27, 4, 7, 28, 29, 30, 31]]"
            ]
          },
          "metadata": {},
          "execution_count": 8
        }
      ]
    },
    {
      "cell_type": "code",
      "source": [
        "from keras.utils import pad_sequences\n",
        "sequences = pad_sequences(sequence, padding = 'post')"
      ],
      "metadata": {
        "id": "ZixvfFhszHFN"
      },
      "execution_count": 9,
      "outputs": []
    },
    {
      "cell_type": "code",
      "source": [
        "sequences"
      ],
      "metadata": {
        "colab": {
          "base_uri": "https://localhost:8080/"
        },
        "id": "cPCicA0czXjV",
        "outputId": "2dc7f2f9-5f2c-4989-8a97-5943c9caa8d9"
      },
      "execution_count": 10,
      "outputs": [
        {
          "output_type": "execute_result",
          "data": {
            "text/plain": [
              "array([[ 5,  5,  0,  0,  0,  0,  0],\n",
              "       [ 2,  3,  6,  8,  0,  0,  0],\n",
              "       [ 2,  9, 10, 11,  0,  0,  0],\n",
              "       [12,  4,  7, 13,  0,  0,  0],\n",
              "       [ 2,  3, 14,  0,  0,  0,  0],\n",
              "       [15,  4, 16, 17, 18,  0,  0],\n",
              "       [ 2,  3,  6, 19,  0,  0,  0],\n",
              "       [20, 21, 22, 23, 24, 25, 26],\n",
              "       [27,  4,  7, 28, 29, 30, 31]], dtype=int32)"
            ]
          },
          "metadata": {},
          "execution_count": 10
        }
      ]
    },
    {
      "cell_type": "code",
      "source": [
        "from keras.datasets import imdb\n",
        "from keras import Sequential\n",
        "from keras.layers import Dense, Flatten, Embedding, SimpleRNN"
      ],
      "metadata": {
        "id": "vP3z-CCtzZYJ"
      },
      "execution_count": 19,
      "outputs": []
    },
    {
      "cell_type": "code",
      "source": [
        "(X_train, y_train), (X_test, y_test) = imdb.load_data()"
      ],
      "metadata": {
        "id": "BQbtQeAl0klF"
      },
      "execution_count": 20,
      "outputs": []
    },
    {
      "cell_type": "code",
      "source": [
        "X_train.shape"
      ],
      "metadata": {
        "colab": {
          "base_uri": "https://localhost:8080/"
        },
        "id": "ByrFP1Et0uSh",
        "outputId": "3a0b9fad-3d90-4fb8-c192-dc980a8dd07c"
      },
      "execution_count": 21,
      "outputs": [
        {
          "output_type": "execute_result",
          "data": {
            "text/plain": [
              "(25000,)"
            ]
          },
          "metadata": {},
          "execution_count": 21
        }
      ]
    },
    {
      "cell_type": "code",
      "source": [
        "y_train"
      ],
      "metadata": {
        "colab": {
          "base_uri": "https://localhost:8080/"
        },
        "id": "p2ZdDRzh04-4",
        "outputId": "6ad88488-4616-4c96-8b99-0f3c49cf7d61"
      },
      "execution_count": 22,
      "outputs": [
        {
          "output_type": "execute_result",
          "data": {
            "text/plain": [
              "array([1, 0, 0, ..., 0, 1, 0])"
            ]
          },
          "metadata": {},
          "execution_count": 22
        }
      ]
    },
    {
      "cell_type": "code",
      "source": [
        "%%time\n",
        "X_train = pad_sequences(X_train, padding = 'post', maxlen = 2000)\n",
        "X_test = pad_sequences(X_test, padding = 'post', maxlen = 2000)"
      ],
      "metadata": {
        "colab": {
          "base_uri": "https://localhost:8080/"
        },
        "id": "2Bx4jlWq0ymo",
        "outputId": "3dc38377-b2ac-4dd1-eac2-9929e6f507c4"
      },
      "execution_count": 23,
      "outputs": [
        {
          "output_type": "stream",
          "name": "stdout",
          "text": [
            "CPU times: user 822 ms, sys: 134 ms, total: 956 ms\n",
            "Wall time: 934 ms\n"
          ]
        }
      ]
    },
    {
      "cell_type": "code",
      "source": [
        "X_train.shape"
      ],
      "metadata": {
        "colab": {
          "base_uri": "https://localhost:8080/"
        },
        "id": "0oJQIYiq1HDa",
        "outputId": "f388b59d-61eb-4309-e107-0117f2ea1f45"
      },
      "execution_count": 24,
      "outputs": [
        {
          "output_type": "execute_result",
          "data": {
            "text/plain": [
              "(25000, 2000)"
            ]
          },
          "metadata": {},
          "execution_count": 24
        }
      ]
    },
    {
      "cell_type": "code",
      "source": [
        "model = Sequential()\n",
        "\n",
        "model.add(SimpleRNN(32, input_shape= (2000, 1), return_sequences = False))\n",
        "model.add(Dense(1, activation = 'sigmoid'))\n",
        "\n",
        "model.summary()"
      ],
      "metadata": {
        "colab": {
          "base_uri": "https://localhost:8080/"
        },
        "id": "s_rUAPJC1OWA",
        "outputId": "4b2693b9-103e-4035-b388-f8a880f1837b"
      },
      "execution_count": 27,
      "outputs": [
        {
          "output_type": "stream",
          "name": "stdout",
          "text": [
            "Model: \"sequential_2\"\n",
            "_________________________________________________________________\n",
            " Layer (type)                Output Shape              Param #   \n",
            "=================================================================\n",
            " simple_rnn_2 (SimpleRNN)    (None, 32)                1088      \n",
            "                                                                 \n",
            " dense_2 (Dense)             (None, 1)                 33        \n",
            "                                                                 \n",
            "=================================================================\n",
            "Total params: 1,121\n",
            "Trainable params: 1,121\n",
            "Non-trainable params: 0\n",
            "_________________________________________________________________\n"
          ]
        }
      ]
    },
    {
      "cell_type": "code",
      "source": [
        "model.compile(loss = 'binary_crossentropy', optimizer = 'adam', metrics = ['accuracy'])\n",
        "\n",
        "history = model.fit(X_train, y_train, epochs = 5, validation_data = (X_test, y_test))"
      ],
      "metadata": {
        "colab": {
          "base_uri": "https://localhost:8080/"
        },
        "id": "jiiQr3pw3vMy",
        "outputId": "632a8b2d-fc9f-4890-bb0d-2fbbe8fcd8ad"
      },
      "execution_count": 28,
      "outputs": [
        {
          "output_type": "stream",
          "name": "stdout",
          "text": [
            "Epoch 1/5\n",
            "782/782 [==============================] - 329s 392ms/step - loss: 0.6941 - accuracy: 0.4974 - val_loss: 0.6935 - val_accuracy: 0.5016\n",
            "Epoch 2/5\n",
            "782/782 [==============================] - 304s 389ms/step - loss: 0.6942 - accuracy: 0.4984 - val_loss: 0.6933 - val_accuracy: 0.5034\n",
            "Epoch 3/5\n",
            "782/782 [==============================] - 305s 391ms/step - loss: 0.6937 - accuracy: 0.5008 - val_loss: 0.6939 - val_accuracy: 0.5034\n",
            "Epoch 4/5\n",
            "782/782 [==============================] - 304s 388ms/step - loss: 0.6937 - accuracy: 0.5046 - val_loss: 0.6933 - val_accuracy: 0.4988\n",
            "Epoch 5/5\n",
            "782/782 [==============================] - 305s 390ms/step - loss: 0.6939 - accuracy: 0.4976 - val_loss: 0.6943 - val_accuracy: 0.4952\n"
          ]
        }
      ]
    },
    {
      "cell_type": "code",
      "source": [],
      "metadata": {
        "id": "zM-toQGl4eiv"
      },
      "execution_count": null,
      "outputs": []
    }
  ]
}