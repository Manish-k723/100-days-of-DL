{
  "nbformat": 4,
  "nbformat_minor": 0,
  "metadata": {
    "colab": {
      "provenance": [],
      "include_colab_link": true
    },
    "kernelspec": {
      "name": "python3",
      "display_name": "Python 3"
    },
    "language_info": {
      "name": "python"
    }
  },
  "cells": [
    {
      "cell_type": "markdown",
      "metadata": {
        "id": "view-in-github",
        "colab_type": "text"
      },
      "source": [
        "<a href=\"https://colab.research.google.com/github/Manish-k723/100-days-of-DL/blob/main/GanWork.ipynb\" target=\"_parent\"><img src=\"https://colab.research.google.com/assets/colab-badge.svg\" alt=\"Open In Colab\"/></a>"
      ]
    },
    {
      "cell_type": "code",
      "source": [
        "import csv"
      ],
      "metadata": {
        "id": "RwSyfim4BiTC"
      },
      "execution_count": 21,
      "outputs": []
    },
    {
      "cell_type": "code",
      "source": [
        "def process_trades(trades):\n",
        "    open_trades = {}\n",
        "    paired_trades = []\n",
        "    pnl_total = 0\n",
        "    try:\n",
        "      for trade in trades:\n",
        "          time, symbol, side, price, quantity = trade\n",
        "          price = float(price)\n",
        "          quantity = int(quantity)\n",
        "          if side == 'B':\n",
        "              if symbol not in open_trades:\n",
        "                  open_trades[symbol] = {'quantity': 0, 'price': 0, 'time': time}\n",
        "              open_trades[symbol]['quantity'] += quantity\n",
        "              open_trades[symbol]['price'] = price\n",
        "\n",
        "          elif side == 'S':\n",
        "              if symbol not in open_trades:\n",
        "                  continue\n",
        "              remaining_quantity = quantity\n",
        "              while remaining_quantity > 0:\n",
        "                  open_trade = open_trades[symbol]\n",
        "                  paired_quantity = min(remaining_quantity, open_trade['quantity'])\n",
        "                  pnl = paired_quantity * (price - open_trade['price'])\n",
        "                  pnl_total += pnl\n",
        "\n",
        "                  paired_trades.append({\n",
        "                      'open_time': open_trade['time'],\n",
        "                      'close_time': time,\n",
        "                      'symbol': symbol,\n",
        "                      'quantity': paired_quantity,\n",
        "                      'pnl': pnl,\n",
        "                      'open_side': 'B',\n",
        "                      'close_side': 'S',\n",
        "                      'open_price': open_trade['price'],\n",
        "                      'close_price': price\n",
        "                  })\n",
        "\n",
        "                  remaining_quantity -= paired_quantity\n",
        "                  open_trade['quantity'] -= paired_quantity\n",
        "\n",
        "                  if open_trade['quantity'] == 0:\n",
        "                      del open_trades[symbol]\n",
        "\n",
        "      return paired_trades, pnl_total\n",
        "    except:\n",
        "      del open_trades[symbol]"
      ],
      "metadata": {
        "id": "Lf5UljsaNa7k"
      },
      "execution_count": 55,
      "outputs": []
    },
    {
      "cell_type": "code",
      "source": [
        "def print_paired_trades(paired_trades):\n",
        "    header = \"OPEN_TIME, CLOSE_TIME, SYMBOL, QUANTITY, PNL, OPEN_SIDE, CLOSE_SIDE, OPEN_PRICE, CLOSE_PRICE\"\n",
        "    print(header)\n",
        "\n",
        "    for trade in sorted(paired_trades, key=lambda x: x['close_time']):\n",
        "        print(f\"{trade['open_time']},{trade['close_time']},{trade['symbol']},{trade['quantity']},{trade['pnl']:.2f},\"\n",
        "              f\"{trade['open_side']},{trade['close_side']},{trade['open_price']:.2f},{trade['close_price']:.2f}\")"
      ],
      "metadata": {
        "id": "UOGYwMLqNWwZ"
      },
      "execution_count": 56,
      "outputs": []
    },
    {
      "cell_type": "code",
      "source": [
        "with open('/content/demo_trades.csv', 'r') as file:\n",
        "        reader = csv.reader(file)\n",
        "        header = next(reader)\n",
        "        trades = [row for row in reader]\n",
        "\n",
        "paired_trades, pnl_total = process_trades(trades)\n",
        "\n",
        "print_paired_trades(paired_trades)\n",
        "print(f\"Total PNL: {pnl_total:.2f}\")"
      ],
      "metadata": {
        "colab": {
          "base_uri": "https://localhost:8080/",
          "height": 425
        },
        "id": "tgT5jP6uPdFb",
        "outputId": "0968902f-6a52-411f-a553-6e864fa39aeb"
      },
      "execution_count": 57,
      "outputs": [
        {
          "output_type": "error",
          "ename": "KeyError",
          "evalue": "ignored",
          "traceback": [
            "\u001b[0;31m---------------------------------------------------------------------------\u001b[0m",
            "\u001b[0;31mKeyError\u001b[0m                                  Traceback (most recent call last)",
            "\u001b[0;32m<ipython-input-55-6cd657407ff6>\u001b[0m in \u001b[0;36mprocess_trades\u001b[0;34m(trades)\u001b[0m\n\u001b[1;32m     20\u001b[0m               \u001b[0;32mwhile\u001b[0m \u001b[0mremaining_quantity\u001b[0m \u001b[0;34m>\u001b[0m \u001b[0;36m0\u001b[0m\u001b[0;34m:\u001b[0m\u001b[0;34m\u001b[0m\u001b[0;34m\u001b[0m\u001b[0m\n\u001b[0;32m---> 21\u001b[0;31m                   \u001b[0mopen_trade\u001b[0m \u001b[0;34m=\u001b[0m \u001b[0mopen_trades\u001b[0m\u001b[0;34m[\u001b[0m\u001b[0msymbol\u001b[0m\u001b[0;34m]\u001b[0m\u001b[0;34m\u001b[0m\u001b[0;34m\u001b[0m\u001b[0m\n\u001b[0m\u001b[1;32m     22\u001b[0m                   \u001b[0mpaired_quantity\u001b[0m \u001b[0;34m=\u001b[0m \u001b[0mmin\u001b[0m\u001b[0;34m(\u001b[0m\u001b[0mremaining_quantity\u001b[0m\u001b[0;34m,\u001b[0m \u001b[0mopen_trade\u001b[0m\u001b[0;34m[\u001b[0m\u001b[0;34m'quantity'\u001b[0m\u001b[0;34m]\u001b[0m\u001b[0;34m)\u001b[0m\u001b[0;34m\u001b[0m\u001b[0;34m\u001b[0m\u001b[0m\n",
            "\u001b[0;31mKeyError\u001b[0m: 'RYE'",
            "\nDuring handling of the above exception, another exception occurred:\n",
            "\u001b[0;31mKeyError\u001b[0m                                  Traceback (most recent call last)",
            "\u001b[0;32m<ipython-input-57-3c61122adcc3>\u001b[0m in \u001b[0;36m<cell line: 6>\u001b[0;34m()\u001b[0m\n\u001b[1;32m      4\u001b[0m         \u001b[0mtrades\u001b[0m \u001b[0;34m=\u001b[0m \u001b[0;34m[\u001b[0m\u001b[0mrow\u001b[0m \u001b[0;32mfor\u001b[0m \u001b[0mrow\u001b[0m \u001b[0;32min\u001b[0m \u001b[0mreader\u001b[0m\u001b[0;34m]\u001b[0m\u001b[0;34m\u001b[0m\u001b[0;34m\u001b[0m\u001b[0m\n\u001b[1;32m      5\u001b[0m \u001b[0;34m\u001b[0m\u001b[0m\n\u001b[0;32m----> 6\u001b[0;31m \u001b[0mpaired_trades\u001b[0m\u001b[0;34m,\u001b[0m \u001b[0mpnl_total\u001b[0m \u001b[0;34m=\u001b[0m \u001b[0mprocess_trades\u001b[0m\u001b[0;34m(\u001b[0m\u001b[0mtrades\u001b[0m\u001b[0;34m)\u001b[0m\u001b[0;34m\u001b[0m\u001b[0;34m\u001b[0m\u001b[0m\n\u001b[0m\u001b[1;32m      7\u001b[0m \u001b[0;34m\u001b[0m\u001b[0m\n\u001b[1;32m      8\u001b[0m \u001b[0mprint_paired_trades\u001b[0m\u001b[0;34m(\u001b[0m\u001b[0mpaired_trades\u001b[0m\u001b[0;34m)\u001b[0m\u001b[0;34m\u001b[0m\u001b[0;34m\u001b[0m\u001b[0m\n",
            "\u001b[0;32m<ipython-input-55-6cd657407ff6>\u001b[0m in \u001b[0;36mprocess_trades\u001b[0;34m(trades)\u001b[0m\n\u001b[1;32m     44\u001b[0m       \u001b[0;32mreturn\u001b[0m \u001b[0mpaired_trades\u001b[0m\u001b[0;34m,\u001b[0m \u001b[0mpnl_total\u001b[0m\u001b[0;34m\u001b[0m\u001b[0;34m\u001b[0m\u001b[0m\n\u001b[1;32m     45\u001b[0m     \u001b[0;32mexcept\u001b[0m\u001b[0;34m:\u001b[0m\u001b[0;34m\u001b[0m\u001b[0;34m\u001b[0m\u001b[0m\n\u001b[0;32m---> 46\u001b[0;31m       \u001b[0;32mdel\u001b[0m \u001b[0mopen_trades\u001b[0m\u001b[0;34m[\u001b[0m\u001b[0msymbol\u001b[0m\u001b[0;34m]\u001b[0m\u001b[0;34m\u001b[0m\u001b[0;34m\u001b[0m\u001b[0m\n\u001b[0m\u001b[1;32m     47\u001b[0m       \u001b[0;32mpass\u001b[0m\u001b[0;34m\u001b[0m\u001b[0;34m\u001b[0m\u001b[0m\n",
            "\u001b[0;31mKeyError\u001b[0m: 'RYE'"
          ]
        }
      ]
    },
    {
      "cell_type": "code",
      "source": [],
      "metadata": {
        "id": "NEmnjm-cZgg9"
      },
      "execution_count": null,
      "outputs": []
    }
  ]
}