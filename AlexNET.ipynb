{
  "nbformat": 4,
  "nbformat_minor": 0,
  "metadata": {
    "colab": {
      "provenance": [],
      "authorship_tag": "ABX9TyN9ZRrNQC41MRy+ix0ZvrXa",
      "include_colab_link": true
    },
    "kernelspec": {
      "name": "python3",
      "display_name": "Python 3"
    },
    "language_info": {
      "name": "python"
    }
  },
  "cells": [
    {
      "cell_type": "markdown",
      "metadata": {
        "id": "view-in-github",
        "colab_type": "text"
      },
      "source": [
        "<a href=\"https://colab.research.google.com/github/Manish-k723/100-days-of-DL/blob/main/AlexNET.ipynb\" target=\"_parent\"><img src=\"https://colab.research.google.com/assets/colab-badge.svg\" alt=\"Open In Colab\"/></a>"
      ]
    },
    {
      "cell_type": "code",
      "execution_count": 1,
      "metadata": {
        "id": "7_iFSlAfvFDy"
      },
      "outputs": [],
      "source": [
        "import tensorflow\n",
        "from tensorflow import keras\n",
        "from keras.layers import Dense, Conv2D, MaxPooling2D, Flatten, Dropout\n",
        "from keras import Sequential"
      ]
    },
    {
      "cell_type": "code",
      "source": [
        "model = Sequential()\n",
        "\n",
        "model.add(Conv2D(96, kernel_size = (11,11), activation = 'relu', strides = 4, padding = 'valid', input_shape = (227,227, 3), kernel_initializer= 'he_normal'))\n",
        "model.add(MaxPooling2D(pool_size = (3,3), strides = 2, padding = 'valid'))\n",
        "\n",
        "model.add(Conv2D(256, kernel_size = (5,5), activation = 'relu', strides = 1, padding = 'same', kernel_initializer= 'he_normal'))\n",
        "model.add(MaxPooling2D(pool_size = (3,3), strides = (2,2), padding = 'valid'))\n",
        "\n",
        "model.add(Conv2D(384, kernel_size = (3, 3), activation = 'relu', strides = 1, padding = 'same', kernel_initializer= 'he_normal'))\n",
        "model.add(Conv2D(384, kernel_size = (3, 3), activation = 'relu', strides = 1, padding = 'same', kernel_initializer= 'he_normal'))\n",
        "model.add(Conv2D(256, kernel_size = (3, 3), activation = 'relu', strides = 1, padding = 'same', kernel_initializer= 'he_normal'))\n",
        "\n",
        "model.add(MaxPooling2D(pool_size = (3,3), strides = (2,2), padding = 'valid'))\n",
        "\n",
        "model.add(Flatten())\n",
        "model.add(Dense(4096, activation = 'relu'))\n",
        "model.add(Dense(4096, activation = 'relu'))\n",
        "model.add(Dense(1000, activation = 'softmax'))\n",
        "\n",
        "model.compile(optimizer= 'adam',\n",
        "                    loss='categorical_crossentropy',\n",
        "                    metrics=['accuracy'])"
      ],
      "metadata": {
        "id": "SST__uGTvRN_"
      },
      "execution_count": 3,
      "outputs": []
    },
    {
      "cell_type": "code",
      "source": [
        "model.summary()"
      ],
      "metadata": {
        "colab": {
          "base_uri": "https://localhost:8080/"
        },
        "id": "GMUN8bxuymmT",
        "outputId": "69e42437-9097-4160-a6ea-77cec8df737f"
      },
      "execution_count": 4,
      "outputs": [
        {
          "output_type": "stream",
          "name": "stdout",
          "text": [
            "Model: \"sequential_1\"\n",
            "_________________________________________________________________\n",
            " Layer (type)                Output Shape              Param #   \n",
            "=================================================================\n",
            " conv2d_1 (Conv2D)           (None, 55, 55, 96)        34944     \n",
            "                                                                 \n",
            " max_pooling2d (MaxPooling2D  (None, 27, 27, 96)       0         \n",
            " )                                                               \n",
            "                                                                 \n",
            " conv2d_2 (Conv2D)           (None, 27, 27, 256)       614656    \n",
            "                                                                 \n",
            " max_pooling2d_1 (MaxPooling  (None, 13, 13, 256)      0         \n",
            " 2D)                                                             \n",
            "                                                                 \n",
            " conv2d_3 (Conv2D)           (None, 13, 13, 384)       885120    \n",
            "                                                                 \n",
            " conv2d_4 (Conv2D)           (None, 13, 13, 384)       1327488   \n",
            "                                                                 \n",
            " conv2d_5 (Conv2D)           (None, 13, 13, 256)       884992    \n",
            "                                                                 \n",
            " max_pooling2d_2 (MaxPooling  (None, 6, 6, 256)        0         \n",
            " 2D)                                                             \n",
            "                                                                 \n",
            " flatten (Flatten)           (None, 9216)              0         \n",
            "                                                                 \n",
            " dense (Dense)               (None, 4096)              37752832  \n",
            "                                                                 \n",
            " dense_1 (Dense)             (None, 4096)              16781312  \n",
            "                                                                 \n",
            " dense_2 (Dense)             (None, 1000)              4097000   \n",
            "                                                                 \n",
            "=================================================================\n",
            "Total params: 62,378,344\n",
            "Trainable params: 62,378,344\n",
            "Non-trainable params: 0\n",
            "_________________________________________________________________\n"
          ]
        }
      ]
    },
    {
      "cell_type": "code",
      "source": [],
      "metadata": {
        "id": "S-px34S8y2PR"
      },
      "execution_count": null,
      "outputs": []
    }
  ]
}